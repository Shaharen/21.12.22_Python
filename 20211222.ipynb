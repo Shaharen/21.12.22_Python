{
 "cells": [
  {
   "cell_type": "markdown",
   "id": "9e09d28e",
   "metadata": {},
   "source": [
    "### 삼항연산자\n",
    "- a if 조건식 else b\n",
    "- True 일때 a 실행"
   ]
  },
  {
   "cell_type": "code",
   "execution_count": 2,
   "id": "7c78e509",
   "metadata": {},
   "outputs": [
    {
     "data": {
      "text/plain": [
       "'불합격'"
      ]
     },
     "execution_count": 2,
     "metadata": {},
     "output_type": "execute_result"
    }
   ],
   "source": [
    "score = 50\n",
    "'합격'if score >= 60 else'불합격'"
   ]
  },
  {
   "cell_type": "code",
   "execution_count": 17,
   "id": "5f9bd647",
   "metadata": {
    "scrolled": true
   },
   "outputs": [
    {
     "name": "stdout",
     "output_type": "stream",
     "text": [
      "정수입력 >> 10\n",
      "정수입력 >> 3\n",
      "a : 10\n",
      "a : 10\n",
      "a : 10\n"
     ]
    }
   ],
   "source": [
    "a = int(input(\"정수입력 >> \"))\n",
    "b = int(input(\"정수입력 >> \"))\n",
    "\n",
    "print(\"b : 10\") if b>a else print(\"a : 10\")\n",
    "print('a : %d' %a)  if a>b else print('b : %d' %b)\n",
    "print(f'b : {b}') if a<b else print(f'a : {a}')"
   ]
  },
  {
   "cell_type": "code",
   "execution_count": 182,
   "id": "e0662bf6",
   "metadata": {},
   "outputs": [
    {
     "name": "stdout",
     "output_type": "stream",
     "text": [
      "첫 번째 정수입력 >> 20\n",
      "두 번째 정수입력 >> 5\n",
      "15\n"
     ]
    }
   ],
   "source": [
    "a = int(input(\"첫 번째 정수입력 >> \"))\n",
    "b = int(input(\"두 번째 정수입력 >> \"))\n",
    "c=a-b\n",
    "d=b-a\n",
    "print(c) if a>b else print(d)"
   ]
  },
  {
   "cell_type": "code",
   "execution_count": 28,
   "id": "447c348e",
   "metadata": {},
   "outputs": [
    {
     "name": "stdout",
     "output_type": "stream",
     "text": [
      "첫 번째 정수입력 >> 5\n",
      "두 번째 정수입력 >> 12\n",
      "b-a:7\n"
     ]
    }
   ],
   "source": [
    "a = int(input(\"첫 번째 정수입력 >> \"))\n",
    "b = int(input(\"두 번째 정수입력 >> \"))\n",
    "print(f'a-b:{a-b}') if a>=b else print(f'b-a:{b-a}')"
   ]
  },
  {
   "cell_type": "code",
   "execution_count": 34,
   "id": "5cec8542",
   "metadata": {},
   "outputs": [
    {
     "name": "stdout",
     "output_type": "stream",
     "text": [
      "정수입력 >> 1548515648156554\n",
      "1548515648156554는 짝수입니다\n"
     ]
    }
   ],
   "source": [
    "a = int(input(\"정수입력 >> \"))\n",
    "print('%d는 짝수입니다' %a) if a % 2 == 0 else print('%d는 홀수입니다' %a)"
   ]
  },
  {
   "cell_type": "markdown",
   "id": "42459617",
   "metadata": {},
   "source": [
    "### 조건문 if elif(else if) else\n",
    "- if 조건식 :\n",
    "- (탭)실행문장"
   ]
  },
  {
   "cell_type": "code",
   "execution_count": 40,
   "id": "f5c7a6ac",
   "metadata": {},
   "outputs": [
    {
     "name": "stdout",
     "output_type": "stream",
     "text": [
      "아메리카노\n",
      "배고프다\n"
     ]
    }
   ],
   "source": [
    "if True :\n",
    "    print(\"아메리카노\")\n",
    "print(\"배고프다\")\n",
    "if False :\n",
    "    print(\"카페라떼\")"
   ]
  },
  {
   "cell_type": "code",
   "execution_count": 44,
   "id": "eef539fe",
   "metadata": {
    "scrolled": false
   },
   "outputs": [
    {
     "name": "stdout",
     "output_type": "stream",
     "text": [
      "남은돈 : 45678\n",
      "택시를 탄다\n"
     ]
    }
   ],
   "source": [
    "money = int(input(\"남은돈 : \"))\n",
    "if money >= 10000 :\n",
    "    print('택시를 탄다')\n",
    "else :\n",
    "    print('버스를 탄다')"
   ]
  },
  {
   "cell_type": "code",
   "execution_count": 47,
   "id": "7b4d7acb",
   "metadata": {
    "scrolled": true
   },
   "outputs": [
    {
     "name": "stdout",
     "output_type": "stream",
     "text": [
      "정수 입력 >> 7\n",
      "3과 5의 배수가 아닙니다\n"
     ]
    }
   ],
   "source": [
    "num = int(input('정수 입력 >> '))\n",
    "if num % 3 == 0 & num % 7 == 0 :\n",
    "    print('3과 5의 배수 입니다.')\n",
    "else :\n",
    "    print('3과 5의 배수가 아닙니다')"
   ]
  },
  {
   "cell_type": "markdown",
   "id": "d2dc1072",
   "metadata": {},
   "source": [
    "#### 조건문 elif"
   ]
  },
  {
   "cell_type": "code",
   "execution_count": 51,
   "id": "1b6bbfd0",
   "metadata": {},
   "outputs": [
    {
     "name": "stdout",
     "output_type": "stream",
     "text": [
      "첫 번째 정수입력 >> 5\n",
      "두 번째 정수입력 >> 5\n",
      "두 정수는 같습니다\n"
     ]
    }
   ],
   "source": [
    "num1 = int(input(\"첫 번째 정수입력 >> \"))\n",
    "num2 = int(input(\"두 번째 정수입력 >> \"))\n",
    "if num1 > num2 :\n",
    "    print('첫 번째 정수가 더 큽니다')\n",
    "elif num1 < num2 :\n",
    "    print('두 번째 정수가 더 큽니다')\n",
    "else :\n",
    "    print('두 정수는 같습니다')"
   ]
  },
  {
   "cell_type": "code",
   "execution_count": 62,
   "id": "6bd1952a",
   "metadata": {
    "scrolled": true
   },
   "outputs": [
    {
     "name": "stdout",
     "output_type": "stream",
     "text": [
      "점수 입력 >> 58\n",
      "58는 f학점 입니다\n"
     ]
    }
   ],
   "source": [
    "score = int(input(\"점수 입력 >> \"))\n",
    "if score >= 90 :\n",
    "    print('%d는 A학점 입니다' %score)\n",
    "elif score >= 80 :\n",
    "    print('%d는 B학점 입니다' %score)\n",
    "elif score >= 70 :\n",
    "    print('%d는 C학점 입니다' %score)    \n",
    "elif score >= 60 :\n",
    "    print('%d는 D학점 입니다' %score)\n",
    "else :\n",
    "    print('%d는 f학점 입니다' %score)"
   ]
  },
  {
   "cell_type": "code",
   "execution_count": 66,
   "id": "649ad4bb",
   "metadata": {
    "scrolled": true
   },
   "outputs": [
    {
     "name": "stdout",
     "output_type": "stream",
     "text": [
      "점수 입력 >> 98\n",
      "98점은 A학점 입니다\n"
     ]
    }
   ],
   "source": [
    "score = int(input(\"점수 입력 >> \"))\n",
    "if score >= 90 :\n",
    "    grade = \"A\"\n",
    "elif score >= 80 :\n",
    "    grade = \"B\"\n",
    "elif score >= 70 :\n",
    "    grade = \"C\"\n",
    "elif score >= 60 :\n",
    "    grade = \"D\"\n",
    "else :\n",
    "    grade = \"F\"\n",
    "print('{}점은 {}학점 입니다' .format(score,grade))"
   ]
  },
  {
   "cell_type": "code",
   "execution_count": 137,
   "id": "0a877a34",
   "metadata": {
    "scrolled": true
   },
   "outputs": [
    {
     "name": "stdout",
     "output_type": "stream",
     "text": [
      "insert coin >>> 5400\n",
      "\n",
      "==================================================================\n",
      "=========================----자판기----===========================\n",
      "==================================================================\n",
      "== 1. 콜라 == 2. 사이다 == 3. 물 == 4. 아아메 === insert =========\n",
      "===-------====---------====-----=================--------=========\n",
      "== 600 원 ==== 800 원 ==== 1000 원 == 3800 원 ==== 5400   ========\n",
      "=================================================--------=========\n",
      "==================================================================\n",
      "==++++++++++++++++++++++++++++++++++++++++++++++++++++++++++++++==\n",
      "==++++++++++++++++++++++++++++++++++++++++++++++++++++++++++++++==\n",
      "==++----------------++                      +++---------------++==\n",
      "==++++||++★☆++||++++         SMHRD        ++++||++☆★++||++++==\n",
      "==++++||++★☆++||++++                      ++++||++☆★++||++++==\n",
      "==++++++++++++++++++++++++++++++++++++++++++++++++++++++++++++++==\n",
      "==++++++++++++++++++++++++++++++++++++++++++++++++++++++++++++++==\n",
      "==++++++++++++++++++++++++++++++++++++++++++++++++++++++++++++++==\n",
      "==================================================================\n",
      "==================================================================\n",
      "              ==                                  ==              \n",
      "              ==                                  ==\n",
      "메뉴 선택 >> 4\n",
      "1600\n",
      "잔돈 >> 1000원 1개, 500원 1개, 100원 1개, 50원 0개, 10원 0개\n",
      "잔돈 >> 1000원 1개, 500원 1개, 100원 1개, 50원 0개, 10원 0개\n"
     ]
    }
   ],
   "source": [
    "coin = int(input('insert coin >>> '))\n",
    "print('''\n",
    "==================================================================\n",
    "=========================----자판기----===========================\n",
    "==================================================================\n",
    "== 1. 콜라 == 2. 사이다 == 3. 물 == 4. 아아메 === insert =========\n",
    "===-------====---------====-----=================--------=========''')\n",
    "if coin >= 10000 :\n",
    "    print('== 600 원 ==== 800 원 ==== 1000 원 == 3800 원 === %d  =========' %coin)\n",
    "elif coin >= 1000 :\n",
    "    print('== 600 원 ==== 800 원 ==== 1000 원 == 3800 원 ==== %d   ========' %coin)\n",
    "elif coin >= 100 :\n",
    "    print('== 600 원 ==== 800 원 ==== 1000 원 == 3800 원 === %d    =========' %coin) \n",
    "print('''=================================================--------=========\n",
    "==================================================================\n",
    "==++++++++++++++++++++++++++++++++++++++++++++++++++++++++++++++==\n",
    "==++++++++++++++++++++++++++++++++++++++++++++++++++++++++++++++==\n",
    "==++----------------++                      +++---------------++==\n",
    "==++++||++★☆++||++++         SMHRD        ++++||++☆★++||++++==\n",
    "==++++||++★☆++||++++                      ++++||++☆★++||++++==\n",
    "==++++++++++++++++++++++++++++++++++++++++++++++++++++++++++++++==\n",
    "==++++++++++++++++++++++++++++++++++++++++++++++++++++++++++++++==\n",
    "==++++++++++++++++++++++++++++++++++++++++++++++++++++++++++++++==\n",
    "==================================================================\n",
    "==================================================================\n",
    "              ==                                  ==              \n",
    "              ==                                  ==''')\n",
    "\n",
    "menu = int(input('메뉴 선택 >> '))\n",
    "if menu == 1:\n",
    "    coin -= 600\n",
    "elif menu ==2 :\n",
    "    coin -= 800\n",
    "elif menu ==3 :\n",
    "    coin -= 1000\n",
    "else :\n",
    "    coin -= 3800\n",
    "print(coin)\n",
    "if coin < 0 :\n",
    "    print('돈이 없잖아ㅏㅏㅏㅏㅏㅏㅏㅏㅏ')\n",
    "    if menu == 1 :\n",
    "        coin += 600\n",
    "    elif menu == 2:\n",
    "        coin += 800\n",
    "    elif menu == 3:\n",
    "        coin += 1000\n",
    "    else :\n",
    "        coin += 3800\n",
    "th = coin // 1000\n",
    "fh = (coin % 1000) // 500\n",
    "oh = (coin % 500) // 100\n",
    "fif = (coin % 100) // 50\n",
    "ten = (coin % 50) // 10\n",
    "print('잔돈 >> 1000원 {}개, 500원 {}개, 100원 {}개, 50원 {}개, 10원 {}개' .format(th,fh,oh,fif,ten))\n",
    "print('잔돈 >> 1000원 %d개, 500원 %d개, 100원 %d개, 50원 %d개, 10원 %d개' %(th,fh,oh,fif,ten))\n",
    "if coin % 10 != 0 :\n",
    "    print('1원짜리 없음 내꺼임')"
   ]
  },
  {
   "cell_type": "markdown",
   "id": "bdd1e3b4",
   "metadata": {},
   "source": [
    "### 리스트\n",
    "- 리스트명 = [요소1, 요소2, 요소3]\n",
    "- 파이썬의 자료구조 형태중 하나\n",
    "- 순서가 있는 수정이 가능한 객체의 집합\n",
    "- 추가, 수정, 삭제 가능!!!"
   ]
  },
  {
   "cell_type": "code",
   "execution_count": 142,
   "id": "15bd3381",
   "metadata": {},
   "outputs": [
    {
     "name": "stdout",
     "output_type": "stream",
     "text": [
      "[]\n",
      "[1, 2, 3]\n",
      "['my', 'name', 'CJI']\n",
      "[1, 2, 'my']\n",
      "[1, 2, ['my', 'name']]\n"
     ]
    },
    {
     "data": {
      "text/plain": [
       "list"
      ]
     },
     "execution_count": 142,
     "metadata": {},
     "output_type": "execute_result"
    }
   ],
   "source": [
    "a=[]\n",
    "b=[1,2,3]\n",
    "c=['my','name','CJI']\n",
    "d=[1,2,'my']\n",
    "e=[1,2,['my','name']]\n",
    "print(a)\n",
    "print(b)\n",
    "print(c)\n",
    "print(d)\n",
    "print(e)\n",
    "type(a)\n",
    "type(b)"
   ]
  },
  {
   "cell_type": "code",
   "execution_count": 149,
   "id": "73f0456c",
   "metadata": {},
   "outputs": [
    {
     "name": "stdout",
     "output_type": "stream",
     "text": [
      "2\n",
      "7\n",
      "7 10\n",
      "[7, 9]\n"
     ]
    }
   ],
   "source": [
    "list1 = [2,5,7,9,10]\n",
    "print(list1[0])\n",
    "print(list1[2])\n",
    "print(list1[2],list1[4])\n",
    "print(list1[2:4])"
   ]
  },
  {
   "cell_type": "code",
   "execution_count": 150,
   "id": "e62e6620",
   "metadata": {},
   "outputs": [
    {
     "name": "stdout",
     "output_type": "stream",
     "text": [
      "[1, 2, 3, ['a', 'b', 'c']]\n"
     ]
    }
   ],
   "source": [
    "list2 = [1,2,3,['a','b','c']]\n",
    "print(list2)"
   ]
  },
  {
   "cell_type": "code",
   "execution_count": 151,
   "id": "8cddedd1",
   "metadata": {},
   "outputs": [
    {
     "name": "stdout",
     "output_type": "stream",
     "text": [
      "['a', 'b', 'c']\n"
     ]
    }
   ],
   "source": [
    "temp = list2[3]\n",
    "print(temp)"
   ]
  },
  {
   "cell_type": "code",
   "execution_count": 156,
   "id": "5eeb6779",
   "metadata": {},
   "outputs": [
    {
     "name": "stdout",
     "output_type": "stream",
     "text": [
      "b\n",
      "b\n"
     ]
    }
   ],
   "source": [
    "print(temp[1])\n",
    "print(list2[3][1])"
   ]
  },
  {
   "cell_type": "code",
   "execution_count": 160,
   "id": "81acea99",
   "metadata": {
    "scrolled": true
   },
   "outputs": [
    {
     "name": "stdout",
     "output_type": "stream",
     "text": [
      "[1, 2]\n",
      "[0, 1]\n",
      "[3]\n"
     ]
    }
   ],
   "source": [
    "list3 = [0,1,2,3,4]\n",
    "print(list3[1:3])\n",
    "print(list3[:2])\n",
    "print(list3[3:4])"
   ]
  },
  {
   "cell_type": "code",
   "execution_count": 163,
   "id": "332398fb",
   "metadata": {},
   "outputs": [
    {
     "name": "stdout",
     "output_type": "stream",
     "text": [
      "[1, 2, 3, 3, 4, 5, 6]\n",
      "[3, 4, 5, 6, 1, 2, 3]\n"
     ]
    }
   ],
   "source": [
    "list4 = [1,2,3]\n",
    "list5 = [3,4,5,6]\n",
    "print(list4+list5)\n",
    "print(list5+list4)"
   ]
  },
  {
   "cell_type": "markdown",
   "id": "4172bda2",
   "metadata": {},
   "source": [
    "## 리스트.append(값) - 추가\n",
    "- 맨뒤에 값추가"
   ]
  },
  {
   "cell_type": "code",
   "execution_count": 166,
   "id": "7a8df035",
   "metadata": {},
   "outputs": [
    {
     "data": {
      "text/plain": [
       "[0, 1, 2, 3, 4, 5]"
      ]
     },
     "execution_count": 166,
     "metadata": {},
     "output_type": "execute_result"
    }
   ],
   "source": [
    "list6 = [0,1,2,3,4]\n",
    "list6.append(5)\n",
    "list6"
   ]
  },
  {
   "cell_type": "code",
   "execution_count": 168,
   "id": "dfc65a89",
   "metadata": {},
   "outputs": [
    {
     "data": {
      "text/plain": [
       "['사과', '수박', '오렌지']"
      ]
     },
     "execution_count": 168,
     "metadata": {},
     "output_type": "execute_result"
    }
   ],
   "source": [
    "list7 = ['사과','포도',['수박','멜론'], '복숭아','딸기','오렌지']\n",
    "choice_list =[]\n",
    "choice_list.append(list7[0])\n",
    "choice_list.append(list7[2][0])\n",
    "choice_list.append(list7[5])\n",
    "choice_list"
   ]
  },
  {
   "cell_type": "code",
   "execution_count": 170,
   "id": "5427fef7",
   "metadata": {},
   "outputs": [
    {
     "data": {
      "text/plain": [
       "[3]"
      ]
     },
     "execution_count": 170,
     "metadata": {},
     "output_type": "execute_result"
    }
   ],
   "source": [
    "list8 = ['사과','포도',['수박',[1,2,3,4,],'멜론'], '복숭아','딸기','오렌지']\n",
    "choice_list =[]\n",
    "choice_list.append(list8[2][1][2])\n",
    "choice_list"
   ]
  },
  {
   "cell_type": "markdown",
   "id": "f7a301b7",
   "metadata": {},
   "source": [
    "#### insert() 함수 사용!"
   ]
  },
  {
   "cell_type": "code",
   "execution_count": 175,
   "id": "576dd1de",
   "metadata": {},
   "outputs": [
    {
     "name": "stdout",
     "output_type": "stream",
     "text": [
      "[0, 5, 1, 2, 3, 6, 4]\n"
     ]
    }
   ],
   "source": [
    "list5 = [0,1,2,3,4]\n",
    "list5.insert(1,5)\n",
    "list5.insert(5,6)\n",
    "print(list5)"
   ]
  },
  {
   "cell_type": "code",
   "execution_count": 181,
   "id": "18cfd32c",
   "metadata": {},
   "outputs": [
    {
     "name": "stdout",
     "output_type": "stream",
     "text": [
      "인덱스위치입력 >> 2\n",
      "노래제목입력 >> 롤린\n",
      "가수 입력 >> 브레이브걸스\n"
     ]
    },
    {
     "data": {
      "text/plain": [
       "[['롤린', '브레이브걸스']]"
      ]
     },
     "execution_count": 181,
     "metadata": {},
     "output_type": "execute_result"
    }
   ],
   "source": [
    "loc = int(input('인덱스위치입력 >> '))\n",
    "song = input('노래제목입력 >> ')\n",
    "singer = input('가수 입력 >> ')\n",
    "music_list = []\n",
    "plus = [song,singer]\n",
    "music_list.insert(loc, plus)\n",
    "music_list"
   ]
  },
  {
   "cell_type": "code",
   "execution_count": null,
   "id": "986841c9",
   "metadata": {},
   "outputs": [],
   "source": []
  },
  {
   "cell_type": "code",
   "execution_count": null,
   "id": "bb1e5f9f",
   "metadata": {},
   "outputs": [],
   "source": []
  }
 ],
 "metadata": {
  "kernelspec": {
   "display_name": "Python 3 (ipykernel)",
   "language": "python",
   "name": "python3"
  },
  "language_info": {
   "codemirror_mode": {
    "name": "ipython",
    "version": 3
   },
   "file_extension": ".py",
   "mimetype": "text/x-python",
   "name": "python",
   "nbconvert_exporter": "python",
   "pygments_lexer": "ipython3",
   "version": "3.9.7"
  }
 },
 "nbformat": 4,
 "nbformat_minor": 5
}
